{
 "cells": [
  {
   "cell_type": "code",
   "execution_count": 19,
   "metadata": {},
   "outputs": [],
   "source": [
    "# Importing tensorflow\n",
    "import tensorflow.compat.v1 as tf\n",
    "tf.disable_v2_behavior()\n",
    "# Importing some more libraries\n",
    "import numpy as np\n",
    "import matplotlib.pyplot as plt\n",
    "import pandas as pd"
   ]
  },
  {
   "cell_type": "code",
   "execution_count": 20,
   "metadata": {},
   "outputs": [
    {
     "name": "stdout",
     "output_type": "stream",
     "text": [
      "(60000, 784)\n"
     ]
    }
   ],
   "source": [
    "#loading the images\n",
    "all_images = np.loadtxt('fashion-mnist_train.csv',\\\n",
    "                  delimiter=',', skiprows=1)[:,1:]\n",
    "#looking at the shape of the file\n",
    "print(all_images.shape)"
   ]
  },
  {
   "cell_type": "code",
   "execution_count": 3,
   "metadata": {},
   "outputs": [
    {
     "name": "stdout",
     "output_type": "stream",
     "text": [
      "the array of the first image looks like [  0.   0.   0.   0.   0.   0.   0.   0.   0.   0.   0.   0.   0.   0.\n",
      "   0.   0.   0.   0.   0.   0.   0.   0.   0.   0.   0.   0.   0.   0.\n",
      "   0.   0.   0.   0.   0.   0.   0.   0.   0.   0.   0.   0.   0.   0.\n",
      "   0.   0.   0.   0.   0.   0.   0.   0.   0.   0.   0.   0.   0.   0.\n",
      "   0.   0.   0.   0.   0.   0.   0.   0.   0.   0.   0.   0.   0.   0.\n",
      "   0.   0.   0.   0.   0.   0.   0.   0.   0.   0.   0.   0.   0.   0.\n",
      "   0.   0.   0.   0.   4.   0.   0.   0.   0.   0.  62.  61.  21.  29.\n",
      "  23.  51. 136.  61.   0.   0.   0.   0.   0.   0.   0.   0.   0.   0.\n",
      "   0.   0.   0.   0.   0.   0.   0.  88. 201. 228. 225. 255. 115.  62.\n",
      " 137. 255. 235. 222. 255. 135.   0.   0.   0.   0.   0.   0.   0.   0.\n",
      "   0.   0.   0.   0.   0.  47. 252. 234. 238. 224. 215. 215. 229. 108.\n",
      " 180. 207. 214. 224. 231. 249. 254.  45.   0.   0.   0.   0.   0.   0.\n",
      "   0.   0.   1.   0.   0. 214. 222. 210. 213. 224. 225. 217. 220. 254.\n",
      " 233. 219. 221. 217. 223. 221. 240. 254.   0.   0.   1.   0.   0.   0.\n",
      "   1.   0.   0.   0. 128. 237. 207. 224. 224. 207. 216. 214. 210. 208.\n",
      " 211. 221. 208. 219. 213. 226. 211. 237. 150.   0.   0.   0.   0.   0.\n",
      "   0.   2.   0.   0. 237. 222. 215. 207. 210. 212. 213. 206. 214. 213.\n",
      " 214. 213. 210. 215. 214. 206. 199. 218. 255.  13.   0.   2.   0.   0.\n",
      "   0.   4.   0.  85. 228. 210. 218. 200. 211. 208. 203. 215. 210. 209.\n",
      " 209. 210. 213. 211. 210. 217. 206. 213. 231. 175.   0.   0.   0.   0.\n",
      "   0.   0.   0. 217. 224. 215. 206. 205. 204. 217. 230. 222. 215. 224.\n",
      " 233. 228. 232. 228. 224. 207. 212. 215. 213. 229.  31.   0.   4.   0.\n",
      "   1.   0.  21. 225. 212. 212. 203. 211. 225. 193. 139. 136. 195. 147.\n",
      " 156. 139. 128. 162. 197. 223. 207. 220. 213. 232. 177.   0.   0.   0.\n",
      "   0.   0. 123. 226. 207. 211. 209. 205. 228. 158.  90. 103. 186. 138.\n",
      " 100. 121. 147. 158. 183. 226. 208. 214. 209. 216. 255.  13.   0.   1.\n",
      "   0.   0. 226. 219. 202. 208. 206. 205. 216. 184. 156. 150. 193. 170.\n",
      " 164. 168. 188. 186. 200. 219. 216. 213. 213. 211. 233. 148.   0.   0.\n",
      "   0.  45. 227. 204. 214. 211. 218. 222. 221. 230. 229. 221. 213. 224.\n",
      " 233. 226. 220. 219. 221. 224. 223. 217. 210. 218. 213. 254.   0.   0.\n",
      "   0. 157. 226. 203. 207. 211. 209. 215. 205. 198. 207. 208. 201. 201.\n",
      " 197. 203. 205. 210. 207. 213. 214. 214. 214. 213. 208. 234. 107.   0.\n",
      "   0. 235. 213. 204. 211. 210. 209. 213. 202. 197. 204. 215. 217. 213.\n",
      " 212. 210. 206. 212. 203. 211. 218. 215. 214. 208. 209. 222. 230.   0.\n",
      "  52. 255. 207. 200. 208. 213. 210. 210. 208. 207. 202. 201. 209. 216.\n",
      " 216. 216. 216. 214. 212. 205. 215. 201. 228. 208. 214. 212. 218.  25.\n",
      " 118. 217. 201. 206. 208. 213. 208. 205. 206. 210. 211. 202. 199. 207.\n",
      " 208. 209. 210. 207. 210. 210. 245. 139. 119. 255. 202. 203. 236. 114.\n",
      " 171. 238. 212. 203. 220. 216. 217. 209. 207. 205. 210. 211. 206. 204.\n",
      " 206. 209. 211. 215. 210. 206. 221. 242.   0. 224. 234. 230. 181.  26.\n",
      "  39. 145. 201. 255. 157. 115. 250. 200. 207. 206. 207. 213. 216. 206.\n",
      " 205. 206. 207. 206. 215. 207. 221. 238.   0.   0. 188.  85.   0.   0.\n",
      "   0.   0.   0.  31.   0. 129. 253. 190. 207. 208. 208. 208. 209. 211.\n",
      " 211. 209. 209. 209. 212. 201. 226. 165.   0.   0.   0.   0.   0.   0.\n",
      "   2.   0.   0.   0.   0.  89. 254. 199. 199. 192. 196. 198. 199. 201.\n",
      " 202. 203. 204. 203. 203. 200. 222. 155.   0.   3.   3.   3.   2.   0.\n",
      "   0.   0.   1.   5.   0.   0. 255. 218. 226. 232. 228. 224. 222. 220.\n",
      " 219. 219. 217. 221. 220. 212. 236.  95.   0.   2.   0.   0.   0.   0.\n",
      "   0.   0.   0.   0.   0.   0. 155. 194. 168. 170. 171. 173. 173. 179.\n",
      " 177. 175. 172. 171. 167. 161. 180.   0.   0.   1.   0.   1.   0.   0.\n",
      "   0.   0.   0.   0.   0.   0.   0.   0.   0.   0.   0.   0.   0.   0.\n",
      "   0.   0.   0.   0.   0.   0.   0.   0.   0.   0.   0.   0.   0.   0.\n",
      "   0.   0.   0.   0.   0.   0.   0.   0.   0.   0.   0.   0.   0.   0.\n",
      "   0.   0.   0.   0.   0.   0.   0.   0.   0.   0.   0.   0.   0.   0.\n",
      "   0.   0.   0.   0.   0.   0.   0.   0.   0.   0.   0.   0.   0.   0.\n",
      "   0.   0.   0.   0.   0.   0.   0.   0.   0.   0.   0.   0.   0.   0.]\n",
      "and the actual image looks like\n"
     ]
    },
    {
     "data": {
      "image/png": "[encoded data removed]",
      "text/plain": [
       "<Figure size 432x288 with 1 Axes>"
      ]
     },
     "metadata": {
      "needs_background": "light"
     },
     "output_type": "display_data"
    }
   ],
   "source": [
    "# printing the array representation of the first image\n",
    "print(\"the array of the first image looks like\", all_images[0])\n",
    "# printing something that actually looks like an image\n",
    "print(\"and the actual image looks like\")\n",
    "plt.imshow(all_images[0].reshape(28,28), cmap='Greys')\n",
    "plt.show()"
   ]
  },
  {
   "cell_type": "code",
   "execution_count": 4,
   "metadata": {},
   "outputs": [],
   "source": [
    "# Deciding how many nodes wach layer should have\n",
    "n_nodes_inpl = 784  #encoder\n",
    "n_nodes_hl1  = 32  #encoder\n",
    "n_nodes_hl2  = 32  #decoder\n",
    "n_nodes_outl = 784  #decoder"
   ]
  },
  {
   "cell_type": "code",
   "execution_count": 7,
   "metadata": {},
   "outputs": [],
   "source": [
    "# first hidden layer has 784*32 weights and 32 biases\n",
    "hidden_1_layer_vals = {\n",
    "'weights':tf.Variable(tf.random_normal([n_nodes_inpl,n_nodes_hl1])),\n",
    "'biases':tf.Variable(tf.random_normal([n_nodes_hl1]))  }\n",
    "# second hidden layer has 32*32 weights and 32 biases\n",
    "hidden_2_layer_vals = {\n",
    "'weights':tf.Variable(tf.random_normal([n_nodes_hl1, n_nodes_hl2])),\n",
    "'biases':tf.Variable(tf.random_normal([n_nodes_hl2]))  }\n",
    "# second hidden layer has 32*784 weights and 784 biases\n",
    "output_layer_vals = {\n",
    "'weights':tf.Variable(tf.random_normal([n_nodes_hl2,n_nodes_outl])),               'biases':tf.Variable(tf.random_normal([n_nodes_outl])) }"
   ]
  },
  {
   "cell_type": "code",
   "execution_count": 9,
   "metadata": {},
   "outputs": [
    {
     "name": "stdout",
     "output_type": "stream",
     "text": [
      "WARNING:tensorflow:From /Users/hongling/opt/anaconda3/lib/python3.7/site-packages/tensorflow_core/python/training/adagrad.py:76: calling Constant.__init__ (from tensorflow.python.ops.init_ops) with dtype is deprecated and will be removed in a future version.\n",
      "Instructions for updating:\n",
      "Call initializer instance with the dtype argument instead of passing it to the constructor\n"
     ]
    }
   ],
   "source": [
    "# image with shape 784 goes in\n",
    "input_layer = tf.placeholder('float', [None, 784])\n",
    "# multiply output of input_layer wth a weight matrix and add biases\n",
    "layer_1 = tf.nn.sigmoid(\n",
    "       tf.add(tf.matmul(input_layer,hidden_1_layer_vals['weights']),\n",
    "       hidden_1_layer_vals['biases']))\n",
    "# multiply output of layer_1 wth a weight matrix and add biases\n",
    "layer_2 = tf.nn.sigmoid(\n",
    "       tf.add(tf.matmul(layer_1,hidden_2_layer_vals['weights']),\n",
    "       hidden_2_layer_vals['biases']))\n",
    "# multiply output of layer_2 wth a weight matrix and add biases\n",
    "output_layer = tf.matmul(layer_2,output_layer_vals['weights']) + output_layer_vals['biases']\n",
    "# output_true shall have the original image for error calculations\n",
    "output_true = tf.placeholder('float', [None, 784])\n",
    "# define our cost function\n",
    "meansq =    tf.reduce_mean(tf.square(output_layer - output_true))\n",
    "# define our optimizer\n",
    "learn_rate = 0.1   # how fast the model should learn\n",
    "optimizer = tf.train.AdagradOptimizer(learn_rate).minimize(meansq)"
   ]
  },
  {
   "cell_type": "code",
   "execution_count": 10,
   "metadata": {},
   "outputs": [
    {
     "name": "stdout",
     "output_type": "stream",
     "text": [
      "Epoch 999 / 1000 loss: 1255529.7065429688\n"
     ]
    }
   ],
   "source": [
    "# initialising stuff and starting the session\n",
    "init = tf.global_variables_initializer()\n",
    "sess = tf.Session()\n",
    "sess.run(init)\n",
    "# defining batch size, number of epochs and learning rate\n",
    "batch_size = 100  # how many images to use together for training\n",
    "hm_epochs =1000    # how many times to go through the entire dataset\n",
    "tot_images = 60000 # total number of images\n",
    "# running the model for a 1000 epochs taking 100 images in batches\n",
    "# total improvement is printed out after each epoch\n",
    "for epoch in range(hm_epochs):\n",
    "    epoch_loss = 0    # initializing error as 0\n",
    "    for i in range(int(tot_images/batch_size)):\n",
    "        epoch_x = all_images[ i*batch_size : (i+1)*batch_size ]\n",
    "        _, c = sess.run([optimizer, meansq],\\\n",
    "               feed_dict={input_layer: epoch_x, \\\n",
    "               output_true: epoch_x})\n",
    "        epoch_loss += c\n",
    "print('Epoch', epoch, '/', hm_epochs, 'loss:',epoch_loss)"
   ]
  },
  {
   "cell_type": "code",
   "execution_count": 14,
   "metadata": {},
   "outputs": [
    {
     "name": "stdout",
     "output_type": "stream",
     "text": [
      "the original picture looks like:\n"
     ]
    },
    {
     "data": {
      "image/png": "[encoded data removed]",
      "text/plain": [
       "<Figure size 432x288 with 1 Axes>"
      ]
     },
     "metadata": {
      "needs_background": "light"
     },
     "output_type": "display_data"
    },
    {
     "name": "stdout",
     "output_type": "stream",
     "text": [
      "the encoded result is:\n",
      "[[1. 0. 0. 1. 1. 0. 1. 0. 0. 0. 0. 1. 0. 0. 1. 0. 1. 1. 0. 1. 0. 1. 0. 0.\n",
      "  1. 0. 0. 1. 1. 1. 1. 0.]]\n"
     ]
    }
   ],
   "source": [
    "# pick any image\n",
    "any_image = all_images[999]\n",
    "# run it though the autoencoder\n",
    "output_any_image = sess.run(output_layer,\\\n",
    "                   feed_dict={input_layer:[any_image]})\n",
    "# run it though just the encoder\n",
    "encoded_any_image = sess.run(layer_1,\\\n",
    "                   feed_dict={input_layer:[any_image]})\n",
    "# print the original image\n",
    "print(\"the original picture looks like:\")\n",
    "plt.imshow(all_images[0].reshape(28,28), cmap='Greys')\n",
    "plt.show()\n",
    "# print the encoding\n",
    "print(\"the encoded result is:\")\n",
    "print(encoded_any_image)"
   ]
  },
  {
   "cell_type": "code",
   "execution_count": null,
   "metadata": {},
   "outputs": [],
   "source": []
  }
 ],
 "metadata": {
  "kernelspec": {
   "display_name": "Python 3",
   "language": "python",
   "name": "python3"
  },
  "language_info": {
   "codemirror_mode": {
    "name": "ipython",
    "version": 3
   },
   "file_extension": ".py",
   "mimetype": "text/x-python",
   "name": "python",
   "nbconvert_exporter": "python",
   "pygments_lexer": "ipython3",
   "version": "3.7.4"
  }
 },
 "nbformat": 4,
 "nbformat_minor": 2
}
