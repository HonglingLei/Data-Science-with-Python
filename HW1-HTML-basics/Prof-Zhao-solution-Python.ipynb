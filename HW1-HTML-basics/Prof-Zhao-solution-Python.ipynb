{
 "cells": [
  {
   "cell_type": "code",
   "execution_count": 2,
   "metadata": {},
   "outputs": [
    {
     "name": "stdout",
     "output_type": "stream",
     "text": [
      "0.04686570167541504\n"
     ]
    }
   ],
   "source": [
    "#do cell by cell, update htm everytime\n",
    "import time\n",
    "import numpy as np\n",
    "\n",
    "\n",
    "n=1000\n",
    "m=30\n",
    "x=np.zeros((n,m))\n",
    "for i in range(1,n):\n",
    "    for j in range(1,m):\n",
    "        x[i,j]=i*1000+j\n",
    "\n",
    "t0=time.time()\n",
    "htm=\"<table>\"\n",
    "for i in range(1,n):\n",
    "    htm+=\"<tr>\"\n",
    "    for j in range(1,m):\n",
    "        htm+=\"<td>\"+str(x[i,j])+\"</td>\"\n",
    "    htm+=\"</tr>\\n\"\n",
    "htm+=\"</table>\"\n",
    "print(time.time()-t0)\n",
    "with open(\"c:/temp/1000x30.htm\",\"w\") as file:\n",
    "    file.write(htm)\n"
   ]
  },
  {
   "cell_type": "code",
   "execution_count": 3,
   "metadata": {},
   "outputs": [
    {
     "name": "stdout",
     "output_type": "stream",
     "text": [
      "0.03128623962402344\n"
     ]
    }
   ],
   "source": [
    "#do row by row first and then add to the htm\n",
    "import time\n",
    "import numpy as np\n",
    "\n",
    "\n",
    "n=1000\n",
    "m=30\n",
    "x=np.zeros((n,m))\n",
    "for i in range(1,n):\n",
    "    for j in range(1,m):\n",
    "        x[i,j]=i*1000+j\n",
    "\n",
    "t0=time.time()\n",
    "htm=\"<table>\"\n",
    "for i in range(1,n):\n",
    "    rr=\"<tr>\"\n",
    "    for j in range(1,m):\n",
    "        rr+=\"<td>\"+str(x[i,j])+\"</td>\"\n",
    "    htm+=rr+\"</tr>\\n\"\n",
    "htm+=\"</table>\"\n",
    "print(time.time()-t0)\n",
    "with open(\"c:/temp/1000x30.htm\",\"w\") as file:\n",
    "    file.write(htm)\n"
   ]
  },
  {
   "cell_type": "code",
   "execution_count": null,
   "metadata": {},
   "outputs": [],
   "source": []
  }
 ],
 "metadata": {
  "kernelspec": {
   "display_name": "Python 3",
   "language": "python",
   "name": "python3"
  },
  "language_info": {
   "codemirror_mode": {
    "name": "ipython",
    "version": 3
   },
   "file_extension": ".py",
   "mimetype": "text/x-python",
   "name": "python",
   "nbconvert_exporter": "python",
   "pygments_lexer": "ipython3",
   "version": "3.7.4"
  }
 },
 "nbformat": 4,
 "nbformat_minor": 2
}
