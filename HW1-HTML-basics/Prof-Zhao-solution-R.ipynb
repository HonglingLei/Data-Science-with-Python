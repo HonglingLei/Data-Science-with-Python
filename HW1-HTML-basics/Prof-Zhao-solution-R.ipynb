{
 "cells": [
  {
   "cell_type": "code",
   "execution_count": 5,
   "metadata": {},
   "outputs": [
    {
     "data": {
      "text/html": [
       "'16.9436469078064'"
      ],
      "text/latex": [
       "'16.9436469078064'"
      ],
      "text/markdown": [
       "'16.9436469078064'"
      ],
      "text/plain": [
       "[1] \"16.9436469078064\""
      ]
     },
     "metadata": {},
     "output_type": "display_data"
    }
   ],
   "source": [
    "m<-30\n",
    "n<-1000\n",
    "x<-matrix(1:(n*m), nrow=n)\n",
    "\n",
    "# cell by cell concatenation\n",
    "t0<-as.numeric(Sys.time())\n",
    "htm<-\"<table>\"\n",
    "for (i in 1:n) {\n",
    "   htm<-paste0(htm,\"<tr>\")\n",
    "   for (j in 1:m) htm<-paste0(htm,\"<td>\",x[i,j],\"</td>\")\n",
    "   htm<-paste0(htm,\"</tr>\")\n",
    "}\n",
    "htm<-paste0(htm,\"</table>\")\n",
    "paste(as.numeric(Sys.time()-t0))"
   ]
  },
  {
   "cell_type": "code",
   "execution_count": 4,
   "metadata": {},
   "outputs": [
    {
     "data": {
      "text/html": [
       "'0.0156509876251221'"
      ],
      "text/latex": [
       "'0.0156509876251221'"
      ],
      "text/markdown": [
       "'0.0156509876251221'"
      ],
      "text/plain": [
       "[1] \"0.0156509876251221\""
      ]
     },
     "metadata": {},
     "output_type": "display_data"
    }
   ],
   "source": [
    "# elliminate one loop by using collapse\n",
    "t0<-as.numeric(Sys.time())\n",
    "rows<-rep(\"\",n)\n",
    "for (i in 1:n) rows[i]<-paste(x[i,], collapse=\"</td><td>\")\n",
    "htm1<-paste0(\"<table><tr><td>\", paste0(rows, collapse=\"\\n\"), \"</td></tr></table>\")\n",
    "paste(as.numeric(Sys.time()-t0))\n"
   ]
  },
  {
   "cell_type": "code",
   "execution_count": 3,
   "metadata": {
    "scrolled": true
   },
   "outputs": [
    {
     "data": {
      "text/html": [
       "'0.624847888946533'"
      ],
      "text/latex": [
       "'0.624847888946533'"
      ],
      "text/markdown": [
       "'0.624847888946533'"
      ],
      "text/plain": [
       "[1] \"0.624847888946533\""
      ]
     },
     "metadata": {},
     "output_type": "display_data"
    }
   ],
   "source": [
    "# row by row concatenation\n",
    "t0<-as.numeric(Sys.time())\n",
    "htm<-\"<table>\"\n",
    "for (i in 1:n) {\n",
    "   tr<-\"<tr>\"\n",
    "   for (j in 1:m) tr<-paste0(tr,\"<td>\",x[i,j],\"</td>\")\n",
    "   htm<-paste0(htm,tr,\"</tr>\")\n",
    "}\n",
    "htm<-paste0(htm,\"</table>\")\n",
    "paste(as.numeric(Sys.time()-t0))\n"
   ]
  }
 ],
 "metadata": {
  "kernelspec": {
   "display_name": "R",
   "language": "R",
   "name": "ir"
  },
  "language_info": {
   "codemirror_mode": "r",
   "file_extension": ".r",
   "mimetype": "text/x-r-source",
   "name": "R",
   "pygments_lexer": "r",
   "version": "3.6.1"
  }
 },
 "nbformat": 4,
 "nbformat_minor": 2
}
