{
 "cells": [
  {
   "cell_type": "markdown",
   "metadata": {},
   "source": [
    "### Simple OOP example for variance analysis ###"
   ]
  },
  {
   "cell_type": "code",
   "execution_count": 16,
   "metadata": {},
   "outputs": [
    {
     "name": "stdout",
     "output_type": "stream",
     "text": [
      "3.0\n",
      "9.0\n",
      "3\n",
      "3.166666666666666\n",
      "1.7795130420052183\n"
     ]
    }
   ],
   "source": [
    "import math\n",
    "\n",
    "## this example is a typical python objct, you need to specify self in the first position of every function call\n",
    "## the self relate this function to the class.\n",
    "class aggregator(object):\n",
    "\n",
    "    def __init__(self):\n",
    "        self.xsum=0.0\n",
    "        self.x2sum=0.0\n",
    "        self.n=0\n",
    "   \n",
    "    def add(self, x):\n",
    "        self.xsum+=x\n",
    "        self.x2sum+=x*x\n",
    "        self.n+=1\n",
    "  \n",
    "    def count(self):\n",
    "        return self.n\n",
    "    \n",
    "    def mean(self):\n",
    "        return self.xsum/self.n\n",
    "    \n",
    "    def sum(self):\n",
    "        return self.xsum\n",
    "    \n",
    "    def sum2(self):\n",
    "        return self.x2sum\n",
    "\n",
    "    def variance(self):\n",
    "        return self.x2sum/self.n - (self.xsum/self.n)*(self.xsum/self.n)\n",
    "    \n",
    "    def sd(self):\n",
    "        return math.sqrt(self.x2sum/self.n - (self.xsum/self.n)*(self.xsum/self.n))\n",
    "    \n",
    "ag=aggregator()\n",
    "ag.add(1.5)\n",
    "ag.add(2)\n",
    "ag.add(5.5)\n",
    "print(ag.mean())\n",
    "print(ag.sum())\n",
    "print(ag.count())\n",
    "print(ag.variance()) #answer 1\n",
    "print(ag.sd()) #answer 2\n",
    "\n"
   ]
  },
  {
   "cell_type": "markdown",
   "metadata": {},
   "source": [
    "question 1: to add function variance() to this class such that you can use ag.variance() to compute the variance of all data ever added to the object ag. "
   ]
  },
  {
   "cell_type": "markdown",
   "metadata": {},
   "source": [
    "question 2: based on variance() function, add a function stddev() for calculating the standard deviation of all data ever added to the object ag."
   ]
  },
  {
   "cell_type": "markdown",
   "metadata": {},
   "source": [
    "question 3: in the case of weighted statistics, the add(self, x) function should be add(self,x,w). Can you extend the code to make a weighted aggregator()?"
   ]
  },
  {
   "cell_type": "code",
   "execution_count": 22,
   "metadata": {},
   "outputs": [
    {
     "name": "stdout",
     "output_type": "stream",
     "text": [
      "3.3\n",
      "0.0\n",
      "3\n",
      "3.0100000000000016\n"
     ]
    }
   ],
   "source": [
    "# answer 3\n",
    "class weighted_aggregator(object):\n",
    "\n",
    "    def __init__(self):\n",
    "        self.xsum=0.0\n",
    "        self.x2sum=0.0\n",
    "        self.xwsum=0.0\n",
    "        self.x2wsum=0.0\n",
    "        self.n=0\n",
    "   \n",
    "    def add(self, x, w):\n",
    "        self.xsum\n",
    "        self.xwsum+=x*w\n",
    "        self.x2wsum+=x*x*w\n",
    "        self.n+=1\n",
    " \n",
    "    def count(self):\n",
    "        return self.n \n",
    "    \n",
    "    def weighted_mean(self):\n",
    "        return self.xwsum\n",
    "    \n",
    "    def sum(self):\n",
    "        return self.xsum\n",
    "    \n",
    "    def sum2(self):\n",
    "        return self.x2sum\n",
    "\n",
    "    def variance(self):\n",
    "        return self.x2wsum-self.xwsum*self.xwsum\n",
    "    \n",
    "    def sd(self):\n",
    "        return math.sqrt(self.x2sum/self.n - (self.xsum/self.n)*(self.xsum/self.n))\n",
    "    \n",
    "wag=weighted_aggregator()\n",
    "wag.add(1, 0.2)\n",
    "wag.add(2, 0.3)\n",
    "wag.add(5, 0.5)\n",
    "print(wag.weighted_mean())\n",
    "print(wag.sum())\n",
    "print(wag.count())\n",
    "print(wag.variance())"
   ]
  },
  {
   "cell_type": "code",
   "execution_count": null,
   "metadata": {},
   "outputs": [],
   "source": []
  }
 ],
 "metadata": {
  "kernelspec": {
   "display_name": "Python 3",
   "language": "python",
   "name": "python3"
  },
  "language_info": {
   "codemirror_mode": {
    "name": "ipython",
    "version": 3
   },
   "file_extension": ".py",
   "mimetype": "text/x-python",
   "name": "python",
   "nbconvert_exporter": "python",
   "pygments_lexer": "ipython3",
   "version": "3.7.3"
  }
 },
 "nbformat": 4,
 "nbformat_minor": 2
}
